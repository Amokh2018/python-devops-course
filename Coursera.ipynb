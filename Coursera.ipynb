{
 "cells": [
  {
   "cell_type": "code",
   "execution_count": 1,
   "metadata": {},
   "outputs": [
    {
     "ename": "RuntimeError",
     "evalue": "something went wrong",
     "output_type": "error",
     "traceback": [
      "\u001b[0;31m---------------------------------------------------------------------------\u001b[0m",
      "\u001b[0;31mRuntimeError\u001b[0m                              Traceback (most recent call last)",
      "Cell \u001b[0;32mIn[1], line 2\u001b[0m\n\u001b[1;32m      1\u001b[0m \u001b[39m# generate an exception\u001b[39;00m\n\u001b[0;32m----> 2\u001b[0m \u001b[39mraise\u001b[39;00m \u001b[39mRuntimeError\u001b[39;00m(\u001b[39m'\u001b[39m\u001b[39msomething went wrong\u001b[39m\u001b[39m'\u001b[39m)\n",
      "\u001b[0;31mRuntimeError\u001b[0m: something went wrong"
     ]
    }
   ],
   "source": [
    "# generate an exception\n",
    "raise RuntimeError('something went wrong')"
   ]
  },
  {
   "attachments": {},
   "cell_type": "markdown",
   "metadata": {},
   "source": [
    "#### Catching and exception <br>\n",
    "You need try and except "
   ]
  },
  {
   "cell_type": "code",
   "execution_count": 5,
   "metadata": {},
   "outputs": [
    {
     "name": "stdout",
     "output_type": "stream",
     "text": [
      "got error =>unsupported operand type(s) for +: 'float' and 'str' \n",
      "\n",
      "5\n"
     ]
    }
   ],
   "source": [
    "try:\n",
    "    result=14/2\n",
    "    result + \"100\"\n",
    "except (ZeroDivisionError,TypeError) as error:\n",
    "    print(f\"got error =>{error} \\n\")\n",
    "    result=5\n",
    "print(result)    "
   ]
  },
  {
   "cell_type": "code",
   "execution_count": 1,
   "metadata": {},
   "outputs": [],
   "source": [
    "class Dog:\n",
    "    #constructor\n",
    "    def __init__(self, name):\n",
    "        self.name = name\n",
    "\n",
    "    def speak(self):\n",
    "        print(f\"{self.name} says woof!\")"
   ]
  },
  {
   "cell_type": "code",
   "execution_count": 3,
   "metadata": {},
   "outputs": [],
   "source": [
    "aoa = Dog(\"rufus\")"
   ]
  },
  {
   "cell_type": "code",
   "execution_count": 4,
   "metadata": {},
   "outputs": [
    {
     "data": {
      "text/plain": [
       "'rufus'"
      ]
     },
     "execution_count": 4,
     "metadata": {},
     "output_type": "execute_result"
    }
   ],
   "source": [
    "aoa.name"
   ]
  },
  {
   "attachments": {},
   "cell_type": "markdown",
   "metadata": {},
   "source": [
    "## Python unitest"
   ]
  },
  {
   "cell_type": "code",
   "execution_count": 5,
   "metadata": {},
   "outputs": [],
   "source": [
    "import unittest\n",
    "class TestExample(unittest.TestCase):\n",
    "    def test_example(self):\n",
    "        self.assertEqual(1, 1)"
   ]
  },
  {
   "cell_type": "code",
   "execution_count": 6,
   "metadata": {},
   "outputs": [],
   "source": [
    "## pytest\n",
    "def my_function(x):\n",
    "    return x + 1\n",
    "def test_my_function():\n",
    "    assert my_function(3) == 4\n",
    "    "
   ]
  },
  {
   "cell_type": "code",
   "execution_count": 7,
   "metadata": {},
   "outputs": [],
   "source": [
    "test_my_function()"
   ]
  },
  {
   "attachments": {},
   "cell_type": "markdown",
   "metadata": {},
   "source": [
    "## pandas"
   ]
  },
  {
   "cell_type": "code",
   "execution_count": 8,
   "metadata": {},
   "outputs": [
    {
     "name": "stdout",
     "output_type": "stream",
     "text": [
      "   a  b  c\n",
      "x  4  2  1\n",
      "y  3  2  1\n",
      "z  2  2  1\n"
     ]
    }
   ],
   "source": [
    "import pandas as pd\n",
    "data = [[4,2,1],[3,2,1],[2,2,1]]\n",
    "columns = ['a','b','c']\n",
    "index = ['x','y','z']\n",
    "df=pd.DataFrame(data,columns=columns,index=index)\n",
    "print(df)"
   ]
  },
  {
   "attachments": {},
   "cell_type": "markdown",
   "metadata": {},
   "source": [
    "Create panda from online csv"
   ]
  },
  {
   "cell_type": "code",
   "execution_count": 10,
   "metadata": {},
   "outputs": [
    {
     "data": {
      "text/html": [
       "<div>\n",
       "<style scoped>\n",
       "    .dataframe tbody tr th:only-of-type {\n",
       "        vertical-align: middle;\n",
       "    }\n",
       "\n",
       "    .dataframe tbody tr th {\n",
       "        vertical-align: top;\n",
       "    }\n",
       "\n",
       "    .dataframe thead th {\n",
       "        text-align: right;\n",
       "    }\n",
       "</style>\n",
       "<table border=\"1\" class=\"dataframe\">\n",
       "  <thead>\n",
       "    <tr style=\"text-align: right;\">\n",
       "      <th></th>\n",
       "      <th>name</th>\n",
       "      <th>grape</th>\n",
       "      <th>region</th>\n",
       "      <th>variety</th>\n",
       "      <th>rating</th>\n",
       "      <th>notes</th>\n",
       "    </tr>\n",
       "  </thead>\n",
       "  <tbody>\n",
       "    <tr>\n",
       "      <th>0</th>\n",
       "      <td>1000 Stories Bourbon Barrel Aged Batch Blue Ca...</td>\n",
       "      <td>NaN</td>\n",
       "      <td>Mendocino, California</td>\n",
       "      <td>Red Wine</td>\n",
       "      <td>91.0</td>\n",
       "      <td>This is a very special, limited release of 100...</td>\n",
       "    </tr>\n",
       "    <tr>\n",
       "      <th>1</th>\n",
       "      <td>1000 Stories Bourbon Barrel Aged Gold Rush Red...</td>\n",
       "      <td>NaN</td>\n",
       "      <td>California</td>\n",
       "      <td>Red Wine</td>\n",
       "      <td>89.0</td>\n",
       "      <td>The California Gold Rush was a period of coura...</td>\n",
       "    </tr>\n",
       "    <tr>\n",
       "      <th>2</th>\n",
       "      <td>1000 Stories Bourbon Barrel Aged Gold Rush Red...</td>\n",
       "      <td>NaN</td>\n",
       "      <td>California</td>\n",
       "      <td>Red Wine</td>\n",
       "      <td>90.0</td>\n",
       "      <td>The California Gold Rush was a period of coura...</td>\n",
       "    </tr>\n",
       "    <tr>\n",
       "      <th>3</th>\n",
       "      <td>1000 Stories Bourbon Barrel Aged Zinfandel 2013</td>\n",
       "      <td>NaN</td>\n",
       "      <td>North Coast, California</td>\n",
       "      <td>Red Wine</td>\n",
       "      <td>91.0</td>\n",
       "      <td>The wine has a deep, rich purple color. An int...</td>\n",
       "    </tr>\n",
       "    <tr>\n",
       "      <th>4</th>\n",
       "      <td>1000 Stories Bourbon Barrel Aged Zinfandel 2014</td>\n",
       "      <td>NaN</td>\n",
       "      <td>California</td>\n",
       "      <td>Red Wine</td>\n",
       "      <td>90.0</td>\n",
       "      <td>Batch #004 is the first release of the 2014 vi...</td>\n",
       "    </tr>\n",
       "    <tr>\n",
       "      <th>5</th>\n",
       "      <td>1000 Stories Bourbon Barrel Aged Zinfandel 2016</td>\n",
       "      <td>NaN</td>\n",
       "      <td>California</td>\n",
       "      <td>Red Wine</td>\n",
       "      <td>91.0</td>\n",
       "      <td>1,000 Stories Bourbon barrel-aged Zinfandel is...</td>\n",
       "    </tr>\n",
       "    <tr>\n",
       "      <th>6</th>\n",
       "      <td>1000 Stories Bourbon Barrel Aged Zinfandel 2017</td>\n",
       "      <td>NaN</td>\n",
       "      <td>California</td>\n",
       "      <td>Red Wine</td>\n",
       "      <td>92.0</td>\n",
       "      <td>Batch 55 embodies an opulent vintage, which sa...</td>\n",
       "    </tr>\n",
       "    <tr>\n",
       "      <th>7</th>\n",
       "      <td>12 Linajes Crianza 2014</td>\n",
       "      <td>NaN</td>\n",
       "      <td>Ribera del Duero, Spain</td>\n",
       "      <td>Red Wine</td>\n",
       "      <td>92.0</td>\n",
       "      <td>Red with violet hues. The aromas are very inte...</td>\n",
       "    </tr>\n",
       "    <tr>\n",
       "      <th>8</th>\n",
       "      <td>12 Linajes Reserva 2012</td>\n",
       "      <td>NaN</td>\n",
       "      <td>Ribera del Duero, Spain</td>\n",
       "      <td>Red Wine</td>\n",
       "      <td>94.0</td>\n",
       "      <td>On the nose, a complex predominance of mineral...</td>\n",
       "    </tr>\n",
       "    <tr>\n",
       "      <th>9</th>\n",
       "      <td>14 Hands Cabernet Sauvignon 2010</td>\n",
       "      <td>NaN</td>\n",
       "      <td>Columbia Valley, Washington</td>\n",
       "      <td>Red Wine</td>\n",
       "      <td>87.0</td>\n",
       "      <td>Concentrated aromas of dark stone fruits and t...</td>\n",
       "    </tr>\n",
       "  </tbody>\n",
       "</table>\n",
       "</div>"
      ],
      "text/plain": [
       "                                                name  grape  \\\n",
       "0  1000 Stories Bourbon Barrel Aged Batch Blue Ca...    NaN   \n",
       "1  1000 Stories Bourbon Barrel Aged Gold Rush Red...    NaN   \n",
       "2  1000 Stories Bourbon Barrel Aged Gold Rush Red...    NaN   \n",
       "3    1000 Stories Bourbon Barrel Aged Zinfandel 2013    NaN   \n",
       "4    1000 Stories Bourbon Barrel Aged Zinfandel 2014    NaN   \n",
       "5    1000 Stories Bourbon Barrel Aged Zinfandel 2016    NaN   \n",
       "6    1000 Stories Bourbon Barrel Aged Zinfandel 2017    NaN   \n",
       "7                            12 Linajes Crianza 2014    NaN   \n",
       "8                            12 Linajes Reserva 2012    NaN   \n",
       "9                   14 Hands Cabernet Sauvignon 2010    NaN   \n",
       "\n",
       "                        region   variety  rating  \\\n",
       "0        Mendocino, California  Red Wine    91.0   \n",
       "1                   California  Red Wine    89.0   \n",
       "2                   California  Red Wine    90.0   \n",
       "3      North Coast, California  Red Wine    91.0   \n",
       "4                   California  Red Wine    90.0   \n",
       "5                   California  Red Wine    91.0   \n",
       "6                   California  Red Wine    92.0   \n",
       "7      Ribera del Duero, Spain  Red Wine    92.0   \n",
       "8      Ribera del Duero, Spain  Red Wine    94.0   \n",
       "9  Columbia Valley, Washington  Red Wine    87.0   \n",
       "\n",
       "                                               notes  \n",
       "0  This is a very special, limited release of 100...  \n",
       "1  The California Gold Rush was a period of coura...  \n",
       "2  The California Gold Rush was a period of coura...  \n",
       "3  The wine has a deep, rich purple color. An int...  \n",
       "4  Batch #004 is the first release of the 2014 vi...  \n",
       "5  1,000 Stories Bourbon barrel-aged Zinfandel is...  \n",
       "6  Batch 55 embodies an opulent vintage, which sa...  \n",
       "7  Red with violet hues. The aromas are very inte...  \n",
       "8  On the nose, a complex predominance of mineral...  \n",
       "9  Concentrated aromas of dark stone fruits and t...  "
      ]
     },
     "execution_count": 10,
     "metadata": {},
     "output_type": "execute_result"
    }
   ],
   "source": [
    "import pandas as pd\n",
    "csv_curl='https://raw.githubusercontent.com/paiml/wine-ratings/main/wine-ratings.csv'\n",
    "df=pd.read_csv(csv_curl, index_col=0)\n",
    "# the most used function are\n",
    "df.head(10)\n",
    "# df.describe()\n",
    "# df.info()\n",
    "# df.shape\n",
    "# df.columns"
   ]
  },
  {
   "cell_type": "code",
   "execution_count": 11,
   "metadata": {},
   "outputs": [],
   "source": [
    "dfc=pd.read_clipboard()"
   ]
  },
  {
   "cell_type": "code",
   "execution_count": 12,
   "metadata": {},
   "outputs": [
    {
     "data": {
      "text/html": [
       "<div>\n",
       "<style scoped>\n",
       "    .dataframe tbody tr th:only-of-type {\n",
       "        vertical-align: middle;\n",
       "    }\n",
       "\n",
       "    .dataframe tbody tr th {\n",
       "        vertical-align: top;\n",
       "    }\n",
       "\n",
       "    .dataframe thead th {\n",
       "        text-align: right;\n",
       "    }\n",
       "</style>\n",
       "<table border=\"1\" class=\"dataframe\">\n",
       "  <thead>\n",
       "    <tr style=\"text-align: right;\">\n",
       "      <th></th>\n",
       "      <th>https://raw.githubusercontent.com/paiml/wine-ratings/main/wine-ratings.csv</th>\n",
       "    </tr>\n",
       "  </thead>\n",
       "  <tbody>\n",
       "  </tbody>\n",
       "</table>\n",
       "</div>"
      ],
      "text/plain": [
       "Empty DataFrame\n",
       "Columns: [https://raw.githubusercontent.com/paiml/wine-ratings/main/wine-ratings.csv]\n",
       "Index: []"
      ]
     },
     "execution_count": 12,
     "metadata": {},
     "output_type": "execute_result"
    }
   ],
   "source": [
    "dfc"
   ]
  },
  {
   "attachments": {},
   "cell_type": "markdown",
   "metadata": {},
   "source": [
    "### Exploratory Analysis"
   ]
  },
  {
   "cell_type": "code",
   "execution_count": 13,
   "metadata": {},
   "outputs": [
    {
     "data": {
      "text/html": [
       "<div>\n",
       "<style scoped>\n",
       "    .dataframe tbody tr th:only-of-type {\n",
       "        vertical-align: middle;\n",
       "    }\n",
       "\n",
       "    .dataframe tbody tr th {\n",
       "        vertical-align: top;\n",
       "    }\n",
       "\n",
       "    .dataframe thead th {\n",
       "        text-align: right;\n",
       "    }\n",
       "</style>\n",
       "<table border=\"1\" class=\"dataframe\">\n",
       "  <thead>\n",
       "    <tr style=\"text-align: right;\">\n",
       "      <th></th>\n",
       "      <th>grape</th>\n",
       "      <th>rating</th>\n",
       "    </tr>\n",
       "  </thead>\n",
       "  <tbody>\n",
       "    <tr>\n",
       "      <th>count</th>\n",
       "      <td>0.0</td>\n",
       "      <td>32780.000000</td>\n",
       "    </tr>\n",
       "    <tr>\n",
       "      <th>mean</th>\n",
       "      <td>NaN</td>\n",
       "      <td>91.186608</td>\n",
       "    </tr>\n",
       "    <tr>\n",
       "      <th>std</th>\n",
       "      <td>NaN</td>\n",
       "      <td>2.190391</td>\n",
       "    </tr>\n",
       "    <tr>\n",
       "      <th>min</th>\n",
       "      <td>NaN</td>\n",
       "      <td>85.000000</td>\n",
       "    </tr>\n",
       "    <tr>\n",
       "      <th>25%</th>\n",
       "      <td>NaN</td>\n",
       "      <td>90.000000</td>\n",
       "    </tr>\n",
       "    <tr>\n",
       "      <th>50%</th>\n",
       "      <td>NaN</td>\n",
       "      <td>91.000000</td>\n",
       "    </tr>\n",
       "    <tr>\n",
       "      <th>75%</th>\n",
       "      <td>NaN</td>\n",
       "      <td>92.000000</td>\n",
       "    </tr>\n",
       "    <tr>\n",
       "      <th>max</th>\n",
       "      <td>NaN</td>\n",
       "      <td>99.000000</td>\n",
       "    </tr>\n",
       "  </tbody>\n",
       "</table>\n",
       "</div>"
      ],
      "text/plain": [
       "       grape        rating\n",
       "count    0.0  32780.000000\n",
       "mean     NaN     91.186608\n",
       "std      NaN      2.190391\n",
       "min      NaN     85.000000\n",
       "25%      NaN     90.000000\n",
       "50%      NaN     91.000000\n",
       "75%      NaN     92.000000\n",
       "max      NaN     99.000000"
      ]
     },
     "execution_count": 13,
     "metadata": {},
     "output_type": "execute_result"
    }
   ],
   "source": [
    "df.describe()"
   ]
  },
  {
   "cell_type": "code",
   "execution_count": 14,
   "metadata": {},
   "outputs": [
    {
     "name": "stdout",
     "output_type": "stream",
     "text": [
      "<class 'pandas.core.frame.DataFrame'>\n",
      "Int64Index: 32780 entries, 0 to 32779\n",
      "Data columns (total 6 columns):\n",
      " #   Column   Non-Null Count  Dtype  \n",
      "---  ------   --------------  -----  \n",
      " 0   name     32780 non-null  object \n",
      " 1   grape    0 non-null      float64\n",
      " 2   region   32777 non-null  object \n",
      " 3   variety  32422 non-null  object \n",
      " 4   rating   32780 non-null  float64\n",
      " 5   notes    32780 non-null  object \n",
      "dtypes: float64(2), object(4)\n",
      "memory usage: 1.8+ MB\n"
     ]
    }
   ],
   "source": [
    "df.info()"
   ]
  },
  {
   "cell_type": "code",
   "execution_count": 15,
   "metadata": {},
   "outputs": [
    {
     "data": {
      "text/html": [
       "<div>\n",
       "<style scoped>\n",
       "    .dataframe tbody tr th:only-of-type {\n",
       "        vertical-align: middle;\n",
       "    }\n",
       "\n",
       "    .dataframe tbody tr th {\n",
       "        vertical-align: top;\n",
       "    }\n",
       "\n",
       "    .dataframe thead th {\n",
       "        text-align: right;\n",
       "    }\n",
       "</style>\n",
       "<table border=\"1\" class=\"dataframe\">\n",
       "  <thead>\n",
       "    <tr style=\"text-align: right;\">\n",
       "      <th></th>\n",
       "      <th>name</th>\n",
       "      <th>grape</th>\n",
       "      <th>region</th>\n",
       "      <th>variety</th>\n",
       "      <th>rating</th>\n",
       "      <th>notes</th>\n",
       "    </tr>\n",
       "  </thead>\n",
       "  <tbody>\n",
       "    <tr>\n",
       "      <th>9986</th>\n",
       "      <td>Chateau Angelus (Futures Pre-Sale) 2019</td>\n",
       "      <td>NaN</td>\n",
       "      <td>St. Emilion, Bordeaux, France</td>\n",
       "      <td>Red Wine</td>\n",
       "      <td>99.0</td>\n",
       "      <td>This 2019 vintage, made while the estate was u...</td>\n",
       "    </tr>\n",
       "    <tr>\n",
       "      <th>21597</th>\n",
       "      <td>Espectacle Espectacle del Montsant 2012</td>\n",
       "      <td>NaN</td>\n",
       "      <td>Spain</td>\n",
       "      <td>Red Wine</td>\n",
       "      <td>99.0</td>\n",
       "      <td>Its color is surprisingly intense compared to ...</td>\n",
       "    </tr>\n",
       "    <tr>\n",
       "      <th>12857</th>\n",
       "      <td>Chateau Pavie (1.5 Liter Futures Pre-Sale) 2019</td>\n",
       "      <td>NaN</td>\n",
       "      <td>St. Emilion, Bordeaux, France</td>\n",
       "      <td>Red Wine</td>\n",
       "      <td>99.0</td>\n",
       "      <td>Blend: 50% Merlot, 32% Cabernet Franc, 18% Cab...</td>\n",
       "    </tr>\n",
       "    <tr>\n",
       "      <th>25936</th>\n",
       "      <td>Guigal La Turque Cote Rotie 2010</td>\n",
       "      <td>NaN</td>\n",
       "      <td>Cote Rotie, Rhone, France</td>\n",
       "      <td>Red Wine</td>\n",
       "      <td>99.0</td>\n",
       "      <td>La Turque displays deep ruby red color with da...</td>\n",
       "    </tr>\n",
       "    <tr>\n",
       "      <th>12856</th>\n",
       "      <td>Chateau Pavie (1.5 Liter Futures Pre-Sale) 2018</td>\n",
       "      <td>NaN</td>\n",
       "      <td>St. Emilion, Bordeaux, France</td>\n",
       "      <td>Red Wine</td>\n",
       "      <td>99.0</td>\n",
       "      <td>Blend: 60% Merlot, 22% Cabernet Franc and 18% ...</td>\n",
       "    </tr>\n",
       "  </tbody>\n",
       "</table>\n",
       "</div>"
      ],
      "text/plain": [
       "                                                  name  grape  \\\n",
       "9986           Chateau Angelus (Futures Pre-Sale) 2019    NaN   \n",
       "21597          Espectacle Espectacle del Montsant 2012    NaN   \n",
       "12857  Chateau Pavie (1.5 Liter Futures Pre-Sale) 2019    NaN   \n",
       "25936                 Guigal La Turque Cote Rotie 2010    NaN   \n",
       "12856  Chateau Pavie (1.5 Liter Futures Pre-Sale) 2018    NaN   \n",
       "\n",
       "                              region   variety  rating  \\\n",
       "9986   St. Emilion, Bordeaux, France  Red Wine    99.0   \n",
       "21597                          Spain  Red Wine    99.0   \n",
       "12857  St. Emilion, Bordeaux, France  Red Wine    99.0   \n",
       "25936      Cote Rotie, Rhone, France  Red Wine    99.0   \n",
       "12856  St. Emilion, Bordeaux, France  Red Wine    99.0   \n",
       "\n",
       "                                                   notes  \n",
       "9986   This 2019 vintage, made while the estate was u...  \n",
       "21597  Its color is surprisingly intense compared to ...  \n",
       "12857  Blend: 50% Merlot, 32% Cabernet Franc, 18% Cab...  \n",
       "25936  La Turque displays deep ruby red color with da...  \n",
       "12856  Blend: 60% Merlot, 22% Cabernet Franc and 18% ...  "
      ]
     },
     "execution_count": 15,
     "metadata": {},
     "output_type": "execute_result"
    }
   ],
   "source": [
    "df.sort_values(by='rating', ascending=False).head()"
   ]
  },
  {
   "cell_type": "code",
   "execution_count": 16,
   "metadata": {},
   "outputs": [
    {
     "name": "stderr",
     "output_type": "stream",
     "text": [
      "/var/folders/b0/lvr6c0md2rb5v_rb1ngcc27h0000gn/T/ipykernel_34962/4149177369.py:1: FutureWarning: The default value of numeric_only in DataFrameGroupBy.mean is deprecated. In a future version, numeric_only will default to False. Either specify numeric_only or select only columns which should be valid for the function.\n",
      "  df.groupby(\"region\").mean()\n"
     ]
    },
    {
     "data": {
      "text/html": [
       "<div>\n",
       "<style scoped>\n",
       "    .dataframe tbody tr th:only-of-type {\n",
       "        vertical-align: middle;\n",
       "    }\n",
       "\n",
       "    .dataframe tbody tr th {\n",
       "        vertical-align: top;\n",
       "    }\n",
       "\n",
       "    .dataframe thead th {\n",
       "        text-align: right;\n",
       "    }\n",
       "</style>\n",
       "<table border=\"1\" class=\"dataframe\">\n",
       "  <thead>\n",
       "    <tr style=\"text-align: right;\">\n",
       "      <th></th>\n",
       "      <th>grape</th>\n",
       "      <th>rating</th>\n",
       "    </tr>\n",
       "    <tr>\n",
       "      <th>region</th>\n",
       "      <th></th>\n",
       "      <th></th>\n",
       "    </tr>\n",
       "  </thead>\n",
       "  <tbody>\n",
       "    <tr>\n",
       "      <th>Abruzzo, Italy</th>\n",
       "      <td>NaN</td>\n",
       "      <td>89.954545</td>\n",
       "    </tr>\n",
       "    <tr>\n",
       "      <th>Aconcagua Valley, Chile</th>\n",
       "      <td>NaN</td>\n",
       "      <td>90.633333</td>\n",
       "    </tr>\n",
       "    <tr>\n",
       "      <th>Adelaida District, Paso Robles, Central Coast, California</th>\n",
       "      <td>NaN</td>\n",
       "      <td>92.357143</td>\n",
       "    </tr>\n",
       "    <tr>\n",
       "      <th>Adelaide Hills, South Australia, Australia</th>\n",
       "      <td>NaN</td>\n",
       "      <td>89.625000</td>\n",
       "    </tr>\n",
       "    <tr>\n",
       "      <th>Adelaide, South Australia, Australia</th>\n",
       "      <td>NaN</td>\n",
       "      <td>90.000000</td>\n",
       "    </tr>\n",
       "    <tr>\n",
       "      <th>...</th>\n",
       "      <td>...</td>\n",
       "      <td>...</td>\n",
       "    </tr>\n",
       "    <tr>\n",
       "      <th>Yakima Valley, Columbia Valley, Washington</th>\n",
       "      <td>NaN</td>\n",
       "      <td>91.141304</td>\n",
       "    </tr>\n",
       "    <tr>\n",
       "      <th>Yamhill-Carlton District, Willamette Valley, Oregon</th>\n",
       "      <td>NaN</td>\n",
       "      <td>91.404762</td>\n",
       "    </tr>\n",
       "    <tr>\n",
       "      <th>Yarra Valley, Victoria, Australia</th>\n",
       "      <td>NaN</td>\n",
       "      <td>89.630769</td>\n",
       "    </tr>\n",
       "    <tr>\n",
       "      <th>Yorkville Highlands, Mendocino, California</th>\n",
       "      <td>NaN</td>\n",
       "      <td>92.000000</td>\n",
       "    </tr>\n",
       "    <tr>\n",
       "      <th>Yountville, Napa Valley, California</th>\n",
       "      <td>NaN</td>\n",
       "      <td>93.473684</td>\n",
       "    </tr>\n",
       "  </tbody>\n",
       "</table>\n",
       "<p>404 rows × 2 columns</p>\n",
       "</div>"
      ],
      "text/plain": [
       "                                                    grape     rating\n",
       "region                                                              \n",
       "Abruzzo, Italy                                        NaN  89.954545\n",
       "Aconcagua Valley, Chile                               NaN  90.633333\n",
       "Adelaida District, Paso Robles, Central Coast, ...    NaN  92.357143\n",
       "Adelaide Hills, South Australia, Australia            NaN  89.625000\n",
       "Adelaide, South Australia, Australia                  NaN  90.000000\n",
       "...                                                   ...        ...\n",
       "Yakima Valley, Columbia Valley, Washington            NaN  91.141304\n",
       "Yamhill-Carlton District, Willamette Valley, Or...    NaN  91.404762\n",
       "Yarra Valley, Victoria, Australia                     NaN  89.630769\n",
       "Yorkville Highlands, Mendocino, California            NaN  92.000000\n",
       "Yountville, Napa Valley, California                   NaN  93.473684\n",
       "\n",
       "[404 rows x 2 columns]"
      ]
     },
     "execution_count": 16,
     "metadata": {},
     "output_type": "execute_result"
    }
   ],
   "source": [
    "df.groupby(\"region\").mean()"
   ]
  },
  {
   "cell_type": "code",
   "execution_count": 17,
   "metadata": {},
   "outputs": [
    {
     "data": {
      "text/html": [
       "<div>\n",
       "<style scoped>\n",
       "    .dataframe tbody tr th:only-of-type {\n",
       "        vertical-align: middle;\n",
       "    }\n",
       "\n",
       "    .dataframe tbody tr th {\n",
       "        vertical-align: top;\n",
       "    }\n",
       "\n",
       "    .dataframe thead th {\n",
       "        text-align: right;\n",
       "    }\n",
       "</style>\n",
       "<table border=\"1\" class=\"dataframe\">\n",
       "  <thead>\n",
       "    <tr style=\"text-align: right;\">\n",
       "      <th></th>\n",
       "      <th>name</th>\n",
       "      <th>rating</th>\n",
       "    </tr>\n",
       "  </thead>\n",
       "  <tbody>\n",
       "    <tr>\n",
       "      <th>0</th>\n",
       "      <td>1000 Stories Bourbon Barrel Aged Batch Blue Ca...</td>\n",
       "      <td>91.0</td>\n",
       "    </tr>\n",
       "    <tr>\n",
       "      <th>1</th>\n",
       "      <td>1000 Stories Bourbon Barrel Aged Gold Rush Red...</td>\n",
       "      <td>89.0</td>\n",
       "    </tr>\n",
       "    <tr>\n",
       "      <th>2</th>\n",
       "      <td>1000 Stories Bourbon Barrel Aged Gold Rush Red...</td>\n",
       "      <td>90.0</td>\n",
       "    </tr>\n",
       "    <tr>\n",
       "      <th>3</th>\n",
       "      <td>1000 Stories Bourbon Barrel Aged Zinfandel 2013</td>\n",
       "      <td>91.0</td>\n",
       "    </tr>\n",
       "    <tr>\n",
       "      <th>4</th>\n",
       "      <td>1000 Stories Bourbon Barrel Aged Zinfandel 2014</td>\n",
       "      <td>90.0</td>\n",
       "    </tr>\n",
       "  </tbody>\n",
       "</table>\n",
       "</div>"
      ],
      "text/plain": [
       "                                                name  rating\n",
       "0  1000 Stories Bourbon Barrel Aged Batch Blue Ca...    91.0\n",
       "1  1000 Stories Bourbon Barrel Aged Gold Rush Red...    89.0\n",
       "2  1000 Stories Bourbon Barrel Aged Gold Rush Red...    90.0\n",
       "3    1000 Stories Bourbon Barrel Aged Zinfandel 2013    91.0\n",
       "4    1000 Stories Bourbon Barrel Aged Zinfandel 2014    90.0"
      ]
     },
     "execution_count": 17,
     "metadata": {},
     "output_type": "execute_result"
    }
   ],
   "source": [
    "named_ratings = df[[\"name\",\"rating\"]]\n",
    "named_ratings.head()"
   ]
  },
  {
   "attachments": {},
   "cell_type": "markdown",
   "metadata": {},
   "source": [
    "Specific Rows"
   ]
  },
  {
   "cell_type": "code",
   "execution_count": 18,
   "metadata": {},
   "outputs": [
    {
     "data": {
      "text/html": [
       "<div>\n",
       "<style scoped>\n",
       "    .dataframe tbody tr th:only-of-type {\n",
       "        vertical-align: middle;\n",
       "    }\n",
       "\n",
       "    .dataframe tbody tr th {\n",
       "        vertical-align: top;\n",
       "    }\n",
       "\n",
       "    .dataframe thead th {\n",
       "        text-align: right;\n",
       "    }\n",
       "</style>\n",
       "<table border=\"1\" class=\"dataframe\">\n",
       "  <thead>\n",
       "    <tr style=\"text-align: right;\">\n",
       "      <th></th>\n",
       "      <th>name</th>\n",
       "      <th>rating</th>\n",
       "    </tr>\n",
       "  </thead>\n",
       "  <tbody>\n",
       "    <tr>\n",
       "      <th>36</th>\n",
       "      <td>3 Rings Reserve Shiraz 2004</td>\n",
       "      <td>96.0</td>\n",
       "    </tr>\n",
       "    <tr>\n",
       "      <th>217</th>\n",
       "      <td>Abreu Vineyards Cappella 2007</td>\n",
       "      <td>96.0</td>\n",
       "    </tr>\n",
       "    <tr>\n",
       "      <th>218</th>\n",
       "      <td>Abreu Vineyards Cappella 2010</td>\n",
       "      <td>98.0</td>\n",
       "    </tr>\n",
       "    <tr>\n",
       "      <th>219</th>\n",
       "      <td>Abreu Vineyards Howell Mountain 2008</td>\n",
       "      <td>96.0</td>\n",
       "    </tr>\n",
       "    <tr>\n",
       "      <th>220</th>\n",
       "      <td>Abreu Vineyards Howell Mountain 2009</td>\n",
       "      <td>98.0</td>\n",
       "    </tr>\n",
       "  </tbody>\n",
       "</table>\n",
       "</div>"
      ],
      "text/plain": [
       "                                     name  rating\n",
       "36            3 Rings Reserve Shiraz 2004    96.0\n",
       "217         Abreu Vineyards Cappella 2007    96.0\n",
       "218         Abreu Vineyards Cappella 2010    98.0\n",
       "219  Abreu Vineyards Howell Mountain 2008    96.0\n",
       "220  Abreu Vineyards Howell Mountain 2009    98.0"
      ]
     },
     "execution_count": 18,
     "metadata": {},
     "output_type": "execute_result"
    }
   ],
   "source": [
    "top_named_raings = named_ratings[df[\"rating\"] >= 96]\n",
    "top_named_raings.head()"
   ]
  },
  {
   "attachments": {},
   "cell_type": "markdown",
   "metadata": {},
   "source": [
    "Using queries"
   ]
  },
  {
   "cell_type": "code",
   "execution_count": 19,
   "metadata": {},
   "outputs": [
    {
     "data": {
      "text/html": [
       "<div>\n",
       "<style scoped>\n",
       "    .dataframe tbody tr th:only-of-type {\n",
       "        vertical-align: middle;\n",
       "    }\n",
       "\n",
       "    .dataframe tbody tr th {\n",
       "        vertical-align: top;\n",
       "    }\n",
       "\n",
       "    .dataframe thead th {\n",
       "        text-align: right;\n",
       "    }\n",
       "</style>\n",
       "<table border=\"1\" class=\"dataframe\">\n",
       "  <thead>\n",
       "    <tr style=\"text-align: right;\">\n",
       "      <th></th>\n",
       "      <th>name</th>\n",
       "      <th>grape</th>\n",
       "      <th>region</th>\n",
       "      <th>variety</th>\n",
       "      <th>rating</th>\n",
       "      <th>notes</th>\n",
       "    </tr>\n",
       "  </thead>\n",
       "  <tbody>\n",
       "    <tr>\n",
       "      <th>8</th>\n",
       "      <td>12 Linajes Reserva 2012</td>\n",
       "      <td>NaN</td>\n",
       "      <td>Ribera del Duero, Spain</td>\n",
       "      <td>Red Wine</td>\n",
       "      <td>94.0</td>\n",
       "      <td>On the nose, a complex predominance of mineral...</td>\n",
       "    </tr>\n",
       "    <tr>\n",
       "      <th>36</th>\n",
       "      <td>3 Rings Reserve Shiraz 2004</td>\n",
       "      <td>NaN</td>\n",
       "      <td>Barossa Valley, Barossa, South Australia, Aust...</td>\n",
       "      <td>Red Wine</td>\n",
       "      <td>96.0</td>\n",
       "      <td>Vintage Comments : Classic Barossa vintage con...</td>\n",
       "    </tr>\n",
       "    <tr>\n",
       "      <th>109</th>\n",
       "      <td>Aalto 2004</td>\n",
       "      <td>NaN</td>\n",
       "      <td>Ribera del Duero, Spain</td>\n",
       "      <td>Red Wine</td>\n",
       "      <td>94.0</td>\n",
       "      <td>\"The 2004 Aalto has a far different personalit...</td>\n",
       "    </tr>\n",
       "    <tr>\n",
       "      <th>110</th>\n",
       "      <td>Aalto 2005</td>\n",
       "      <td>NaN</td>\n",
       "      <td>Ribera del Duero, Spain</td>\n",
       "      <td>Red Wine</td>\n",
       "      <td>95.0</td>\n",
       "      <td>The grapes come exclusively from old vineyards...</td>\n",
       "    </tr>\n",
       "    <tr>\n",
       "      <th>111</th>\n",
       "      <td>Aalto 2007</td>\n",
       "      <td>NaN</td>\n",
       "      <td>Ribera del Duero, Spain</td>\n",
       "      <td>Red Wine</td>\n",
       "      <td>95.0</td>\n",
       "      <td>It is ironic that one of the youngest properti...</td>\n",
       "    </tr>\n",
       "    <tr>\n",
       "      <th>113</th>\n",
       "      <td>Aalto 2008</td>\n",
       "      <td>NaN</td>\n",
       "      <td>Ribera del Duero, Spain</td>\n",
       "      <td>Red Wine</td>\n",
       "      <td>95.0</td>\n",
       "      <td>This wine's elegance and fruitful presence per...</td>\n",
       "    </tr>\n",
       "    <tr>\n",
       "      <th>115</th>\n",
       "      <td>Aalto 2010</td>\n",
       "      <td>NaN</td>\n",
       "      <td>Ribera del Duero, Spain</td>\n",
       "      <td>Red Wine</td>\n",
       "      <td>94.0</td>\n",
       "      <td>This wine's elegance and fruitful presence per...</td>\n",
       "    </tr>\n",
       "    <tr>\n",
       "      <th>117</th>\n",
       "      <td>Aalto 2012</td>\n",
       "      <td>NaN</td>\n",
       "      <td>Ribera del Duero, Spain</td>\n",
       "      <td>Red Wine</td>\n",
       "      <td>94.0</td>\n",
       "      <td>#6</td>\n",
       "    </tr>\n",
       "    <tr>\n",
       "      <th>121</th>\n",
       "      <td>Aalto 2016</td>\n",
       "      <td>NaN</td>\n",
       "      <td>Ribera del Duero, Spain</td>\n",
       "      <td>Red Wine</td>\n",
       "      <td>95.0</td>\n",
       "      <td>Deep purple red color, as corresponds to old T...</td>\n",
       "    </tr>\n",
       "    <tr>\n",
       "      <th>122</th>\n",
       "      <td>Aalto PS 2011</td>\n",
       "      <td>NaN</td>\n",
       "      <td>Ribera del Duero, Spain</td>\n",
       "      <td>Red Wine</td>\n",
       "      <td>94.0</td>\n",
       "      <td>AALTO PS, being made from a selection of our b...</td>\n",
       "    </tr>\n",
       "  </tbody>\n",
       "</table>\n",
       "</div>"
      ],
      "text/plain": [
       "                            name  grape  \\\n",
       "8        12 Linajes Reserva 2012    NaN   \n",
       "36   3 Rings Reserve Shiraz 2004    NaN   \n",
       "109                   Aalto 2004    NaN   \n",
       "110                   Aalto 2005    NaN   \n",
       "111                   Aalto 2007    NaN   \n",
       "113                   Aalto 2008    NaN   \n",
       "115                   Aalto 2010    NaN   \n",
       "117                   Aalto 2012    NaN   \n",
       "121                   Aalto 2016    NaN   \n",
       "122                Aalto PS 2011    NaN   \n",
       "\n",
       "                                                region   variety  rating  \\\n",
       "8                              Ribera del Duero, Spain  Red Wine    94.0   \n",
       "36   Barossa Valley, Barossa, South Australia, Aust...  Red Wine    96.0   \n",
       "109                            Ribera del Duero, Spain  Red Wine    94.0   \n",
       "110                            Ribera del Duero, Spain  Red Wine    95.0   \n",
       "111                            Ribera del Duero, Spain  Red Wine    95.0   \n",
       "113                            Ribera del Duero, Spain  Red Wine    95.0   \n",
       "115                            Ribera del Duero, Spain  Red Wine    94.0   \n",
       "117                            Ribera del Duero, Spain  Red Wine    94.0   \n",
       "121                            Ribera del Duero, Spain  Red Wine    95.0   \n",
       "122                            Ribera del Duero, Spain  Red Wine    94.0   \n",
       "\n",
       "                                                 notes  \n",
       "8    On the nose, a complex predominance of mineral...  \n",
       "36   Vintage Comments : Classic Barossa vintage con...  \n",
       "109  \"The 2004 Aalto has a far different personalit...  \n",
       "110  The grapes come exclusively from old vineyards...  \n",
       "111  It is ironic that one of the youngest properti...  \n",
       "113  This wine's elegance and fruitful presence per...  \n",
       "115  This wine's elegance and fruitful presence per...  \n",
       "117                                                #6   \n",
       "121  Deep purple red color, as corresponds to old T...  \n",
       "122  AALTO PS, being made from a selection of our b...  "
      ]
     },
     "execution_count": 19,
     "metadata": {},
     "output_type": "execute_result"
    }
   ],
   "source": [
    "df.query(\"rating > 93\").head(10)"
   ]
  },
  {
   "cell_type": "code",
   "execution_count": 21,
   "metadata": {},
   "outputs": [
    {
     "data": {
      "text/html": [
       "<div>\n",
       "<style scoped>\n",
       "    .dataframe tbody tr th:only-of-type {\n",
       "        vertical-align: middle;\n",
       "    }\n",
       "\n",
       "    .dataframe tbody tr th {\n",
       "        vertical-align: top;\n",
       "    }\n",
       "\n",
       "    .dataframe thead th {\n",
       "        text-align: right;\n",
       "    }\n",
       "</style>\n",
       "<table border=\"1\" class=\"dataframe\">\n",
       "  <thead>\n",
       "    <tr style=\"text-align: right;\">\n",
       "      <th></th>\n",
       "      <th>name</th>\n",
       "      <th>grape</th>\n",
       "      <th>region</th>\n",
       "      <th>variety</th>\n",
       "      <th>rating</th>\n",
       "      <th>notes</th>\n",
       "    </tr>\n",
       "  </thead>\n",
       "  <tbody>\n",
       "    <tr>\n",
       "      <th>8</th>\n",
       "      <td>12 Linajes Reserva 2012</td>\n",
       "      <td>NaN</td>\n",
       "      <td>Ribera del Duero, Spain</td>\n",
       "      <td>Red Wine</td>\n",
       "      <td>94.0</td>\n",
       "      <td>On the nose, a complex predominance of mineral...</td>\n",
       "    </tr>\n",
       "    <tr>\n",
       "      <th>109</th>\n",
       "      <td>Aalto 2004</td>\n",
       "      <td>NaN</td>\n",
       "      <td>Ribera del Duero, Spain</td>\n",
       "      <td>Red Wine</td>\n",
       "      <td>94.0</td>\n",
       "      <td>\"The 2004 Aalto has a far different personalit...</td>\n",
       "    </tr>\n",
       "    <tr>\n",
       "      <th>110</th>\n",
       "      <td>Aalto 2005</td>\n",
       "      <td>NaN</td>\n",
       "      <td>Ribera del Duero, Spain</td>\n",
       "      <td>Red Wine</td>\n",
       "      <td>95.0</td>\n",
       "      <td>The grapes come exclusively from old vineyards...</td>\n",
       "    </tr>\n",
       "    <tr>\n",
       "      <th>111</th>\n",
       "      <td>Aalto 2007</td>\n",
       "      <td>NaN</td>\n",
       "      <td>Ribera del Duero, Spain</td>\n",
       "      <td>Red Wine</td>\n",
       "      <td>95.0</td>\n",
       "      <td>It is ironic that one of the youngest properti...</td>\n",
       "    </tr>\n",
       "    <tr>\n",
       "      <th>113</th>\n",
       "      <td>Aalto 2008</td>\n",
       "      <td>NaN</td>\n",
       "      <td>Ribera del Duero, Spain</td>\n",
       "      <td>Red Wine</td>\n",
       "      <td>95.0</td>\n",
       "      <td>This wine's elegance and fruitful presence per...</td>\n",
       "    </tr>\n",
       "    <tr>\n",
       "      <th>115</th>\n",
       "      <td>Aalto 2010</td>\n",
       "      <td>NaN</td>\n",
       "      <td>Ribera del Duero, Spain</td>\n",
       "      <td>Red Wine</td>\n",
       "      <td>94.0</td>\n",
       "      <td>This wine's elegance and fruitful presence per...</td>\n",
       "    </tr>\n",
       "    <tr>\n",
       "      <th>117</th>\n",
       "      <td>Aalto 2012</td>\n",
       "      <td>NaN</td>\n",
       "      <td>Ribera del Duero, Spain</td>\n",
       "      <td>Red Wine</td>\n",
       "      <td>94.0</td>\n",
       "      <td>#6</td>\n",
       "    </tr>\n",
       "    <tr>\n",
       "      <th>121</th>\n",
       "      <td>Aalto 2016</td>\n",
       "      <td>NaN</td>\n",
       "      <td>Ribera del Duero, Spain</td>\n",
       "      <td>Red Wine</td>\n",
       "      <td>95.0</td>\n",
       "      <td>Deep purple red color, as corresponds to old T...</td>\n",
       "    </tr>\n",
       "    <tr>\n",
       "      <th>122</th>\n",
       "      <td>Aalto PS 2011</td>\n",
       "      <td>NaN</td>\n",
       "      <td>Ribera del Duero, Spain</td>\n",
       "      <td>Red Wine</td>\n",
       "      <td>94.0</td>\n",
       "      <td>AALTO PS, being made from a selection of our b...</td>\n",
       "    </tr>\n",
       "    <tr>\n",
       "      <th>123</th>\n",
       "      <td>Aalto PS 2013</td>\n",
       "      <td>NaN</td>\n",
       "      <td>Ribera del Duero, Spain</td>\n",
       "      <td>Red Wine</td>\n",
       "      <td>95.0</td>\n",
       "      <td>Aalto PS (Pagos Seleccionada) is made only in ...</td>\n",
       "    </tr>\n",
       "  </tbody>\n",
       "</table>\n",
       "</div>"
      ],
      "text/plain": [
       "                        name  grape                   region   variety  \\\n",
       "8    12 Linajes Reserva 2012    NaN  Ribera del Duero, Spain  Red Wine   \n",
       "109               Aalto 2004    NaN  Ribera del Duero, Spain  Red Wine   \n",
       "110               Aalto 2005    NaN  Ribera del Duero, Spain  Red Wine   \n",
       "111               Aalto 2007    NaN  Ribera del Duero, Spain  Red Wine   \n",
       "113               Aalto 2008    NaN  Ribera del Duero, Spain  Red Wine   \n",
       "115               Aalto 2010    NaN  Ribera del Duero, Spain  Red Wine   \n",
       "117               Aalto 2012    NaN  Ribera del Duero, Spain  Red Wine   \n",
       "121               Aalto 2016    NaN  Ribera del Duero, Spain  Red Wine   \n",
       "122            Aalto PS 2011    NaN  Ribera del Duero, Spain  Red Wine   \n",
       "123            Aalto PS 2013    NaN  Ribera del Duero, Spain  Red Wine   \n",
       "\n",
       "     rating                                              notes  \n",
       "8      94.0  On the nose, a complex predominance of mineral...  \n",
       "109    94.0  \"The 2004 Aalto has a far different personalit...  \n",
       "110    95.0  The grapes come exclusively from old vineyards...  \n",
       "111    95.0  It is ironic that one of the youngest properti...  \n",
       "113    95.0  This wine's elegance and fruitful presence per...  \n",
       "115    94.0  This wine's elegance and fruitful presence per...  \n",
       "117    94.0                                                #6   \n",
       "121    95.0  Deep purple red color, as corresponds to old T...  \n",
       "122    94.0  AALTO PS, being made from a selection of our b...  \n",
       "123    95.0  Aalto PS (Pagos Seleccionada) is made only in ...  "
      ]
     },
     "execution_count": 21,
     "metadata": {},
     "output_type": "execute_result"
    }
   ],
   "source": [
    "df.query(\"rating > 93 & region == 'Ribera del Duero, Spain'\").head(10)"
   ]
  },
  {
   "cell_type": "code",
   "execution_count": 23,
   "metadata": {},
   "outputs": [
    {
     "data": {
      "text/html": [
       "<div>\n",
       "<style scoped>\n",
       "    .dataframe tbody tr th:only-of-type {\n",
       "        vertical-align: middle;\n",
       "    }\n",
       "\n",
       "    .dataframe tbody tr th {\n",
       "        vertical-align: top;\n",
       "    }\n",
       "\n",
       "    .dataframe thead th {\n",
       "        text-align: right;\n",
       "    }\n",
       "</style>\n",
       "<table border=\"1\" class=\"dataframe\">\n",
       "  <thead>\n",
       "    <tr style=\"text-align: right;\">\n",
       "      <th></th>\n",
       "      <th>name</th>\n",
       "      <th>grape</th>\n",
       "      <th>region</th>\n",
       "      <th>variety</th>\n",
       "      <th>rating</th>\n",
       "      <th>notes</th>\n",
       "    </tr>\n",
       "  </thead>\n",
       "  <tbody>\n",
       "    <tr>\n",
       "      <th>3050</th>\n",
       "      <td>Austin Hope Cabernet Sauvignon 2016</td>\n",
       "      <td>NaN</td>\n",
       "      <td>Paso Robles, Central Coast, California</td>\n",
       "      <td>Red Wine</td>\n",
       "      <td>96.0</td>\n",
       "      <td>Deep ruby in color, the 2016 Austin Hope Caber...</td>\n",
       "    </tr>\n",
       "    <tr>\n",
       "      <th>6272</th>\n",
       "      <td>Booker Vineyard Estate 24 2014</td>\n",
       "      <td>NaN</td>\n",
       "      <td>Paso Robles, Central Coast, California</td>\n",
       "      <td>Red Wine</td>\n",
       "      <td>96.0</td>\n",
       "      <td>Blend: 51% Tempranillo, 28% Syrah, 13% Petit V...</td>\n",
       "    </tr>\n",
       "    <tr>\n",
       "      <th>6273</th>\n",
       "      <td>Booker Vineyard Estate Syrah Blend 2013</td>\n",
       "      <td>NaN</td>\n",
       "      <td>Paso Robles, Central Coast, California</td>\n",
       "      <td>Red Wine</td>\n",
       "      <td>96.0</td>\n",
       "      <td>Fashioned after the old Alchemist, this wine w...</td>\n",
       "    </tr>\n",
       "    <tr>\n",
       "      <th>6277</th>\n",
       "      <td>Booker Vineyard Fracture Syrah 2011</td>\n",
       "      <td>NaN</td>\n",
       "      <td>Paso Robles, Central Coast, California</td>\n",
       "      <td>Red Wine</td>\n",
       "      <td>97.0</td>\n",
       "      <td>Just over half of our property is planted with...</td>\n",
       "    </tr>\n",
       "    <tr>\n",
       "      <th>6284</th>\n",
       "      <td>Booker Vineyard Jada 2015</td>\n",
       "      <td>NaN</td>\n",
       "      <td>Paso Robles, Central Coast, California</td>\n",
       "      <td>Red Wine</td>\n",
       "      <td>96.0</td>\n",
       "      <td>This Grenache heavy wine is very elegant and p...</td>\n",
       "    </tr>\n",
       "  </tbody>\n",
       "</table>\n",
       "</div>"
      ],
      "text/plain": [
       "                                         name  grape  \\\n",
       "3050      Austin Hope Cabernet Sauvignon 2016    NaN   \n",
       "6272           Booker Vineyard Estate 24 2014    NaN   \n",
       "6273  Booker Vineyard Estate Syrah Blend 2013    NaN   \n",
       "6277      Booker Vineyard Fracture Syrah 2011    NaN   \n",
       "6284                Booker Vineyard Jada 2015    NaN   \n",
       "\n",
       "                                      region   variety  rating  \\\n",
       "3050  Paso Robles, Central Coast, California  Red Wine    96.0   \n",
       "6272  Paso Robles, Central Coast, California  Red Wine    96.0   \n",
       "6273  Paso Robles, Central Coast, California  Red Wine    96.0   \n",
       "6277  Paso Robles, Central Coast, California  Red Wine    97.0   \n",
       "6284  Paso Robles, Central Coast, California  Red Wine    96.0   \n",
       "\n",
       "                                                  notes  \n",
       "3050  Deep ruby in color, the 2016 Austin Hope Caber...  \n",
       "6272  Blend: 51% Tempranillo, 28% Syrah, 13% Petit V...  \n",
       "6273  Fashioned after the old Alchemist, this wine w...  \n",
       "6277  Just over half of our property is planted with...  \n",
       "6284  This Grenache heavy wine is very elegant and p...  "
      ]
     },
     "execution_count": 23,
     "metadata": {},
     "output_type": "execute_result"
    }
   ],
   "source": [
    "# chain queries to use the Python engine to operate on strings\n",
    "top_wines = df.query(\"rating > 95\")\n",
    "# na=False is needed because we have some NaN region descriptions!\n",
    "paso_robles = top_wines.query(\"region.str.contains('Robles', na=False)\", engine='python')\n",
    "paso_robles.head()"
   ]
  },
  {
   "attachments": {},
   "cell_type": "markdown",
   "metadata": {},
   "source": [
    "Applying functions"
   ]
  },
  {
   "cell_type": "code",
   "execution_count": 25,
   "metadata": {},
   "outputs": [
    {
     "data": {
      "text/html": [
       "<div>\n",
       "<style scoped>\n",
       "    .dataframe tbody tr th:only-of-type {\n",
       "        vertical-align: middle;\n",
       "    }\n",
       "\n",
       "    .dataframe tbody tr th {\n",
       "        vertical-align: top;\n",
       "    }\n",
       "\n",
       "    .dataframe thead th {\n",
       "        text-align: right;\n",
       "    }\n",
       "</style>\n",
       "<table border=\"1\" class=\"dataframe\">\n",
       "  <thead>\n",
       "    <tr style=\"text-align: right;\">\n",
       "      <th></th>\n",
       "      <th>name</th>\n",
       "      <th>grape</th>\n",
       "      <th>region</th>\n",
       "      <th>variety</th>\n",
       "      <th>rating</th>\n",
       "      <th>notes</th>\n",
       "      <th>good_wine</th>\n",
       "    </tr>\n",
       "  </thead>\n",
       "  <tbody>\n",
       "    <tr>\n",
       "      <th>8</th>\n",
       "      <td>12 Linajes Reserva 2012</td>\n",
       "      <td>NaN</td>\n",
       "      <td>Ribera del Duero, Spain</td>\n",
       "      <td>Red Wine</td>\n",
       "      <td>94.0</td>\n",
       "      <td>On the nose, a complex predominance of mineral...</td>\n",
       "      <td>True</td>\n",
       "    </tr>\n",
       "    <tr>\n",
       "      <th>36</th>\n",
       "      <td>3 Rings Reserve Shiraz 2004</td>\n",
       "      <td>NaN</td>\n",
       "      <td>Barossa Valley, Barossa, South Australia, Aust...</td>\n",
       "      <td>Red Wine</td>\n",
       "      <td>96.0</td>\n",
       "      <td>Vintage Comments : Classic Barossa vintage con...</td>\n",
       "      <td>True</td>\n",
       "    </tr>\n",
       "    <tr>\n",
       "      <th>109</th>\n",
       "      <td>Aalto 2004</td>\n",
       "      <td>NaN</td>\n",
       "      <td>Ribera del Duero, Spain</td>\n",
       "      <td>Red Wine</td>\n",
       "      <td>94.0</td>\n",
       "      <td>\"The 2004 Aalto has a far different personalit...</td>\n",
       "      <td>True</td>\n",
       "    </tr>\n",
       "    <tr>\n",
       "      <th>110</th>\n",
       "      <td>Aalto 2005</td>\n",
       "      <td>NaN</td>\n",
       "      <td>Ribera del Duero, Spain</td>\n",
       "      <td>Red Wine</td>\n",
       "      <td>95.0</td>\n",
       "      <td>The grapes come exclusively from old vineyards...</td>\n",
       "      <td>True</td>\n",
       "    </tr>\n",
       "    <tr>\n",
       "      <th>111</th>\n",
       "      <td>Aalto 2007</td>\n",
       "      <td>NaN</td>\n",
       "      <td>Ribera del Duero, Spain</td>\n",
       "      <td>Red Wine</td>\n",
       "      <td>95.0</td>\n",
       "      <td>It is ironic that one of the youngest properti...</td>\n",
       "      <td>True</td>\n",
       "    </tr>\n",
       "  </tbody>\n",
       "</table>\n",
       "</div>"
      ],
      "text/plain": [
       "                            name  grape  \\\n",
       "8        12 Linajes Reserva 2012    NaN   \n",
       "36   3 Rings Reserve Shiraz 2004    NaN   \n",
       "109                   Aalto 2004    NaN   \n",
       "110                   Aalto 2005    NaN   \n",
       "111                   Aalto 2007    NaN   \n",
       "\n",
       "                                                region   variety  rating  \\\n",
       "8                              Ribera del Duero, Spain  Red Wine    94.0   \n",
       "36   Barossa Valley, Barossa, South Australia, Aust...  Red Wine    96.0   \n",
       "109                            Ribera del Duero, Spain  Red Wine    94.0   \n",
       "110                            Ribera del Duero, Spain  Red Wine    95.0   \n",
       "111                            Ribera del Duero, Spain  Red Wine    95.0   \n",
       "\n",
       "                                                 notes  good_wine  \n",
       "8    On the nose, a complex predominance of mineral...       True  \n",
       "36   Vintage Comments : Classic Barossa vintage con...       True  \n",
       "109  \"The 2004 Aalto has a far different personalit...       True  \n",
       "110  The grapes come exclusively from old vineyards...       True  \n",
       "111  It is ironic that one of the youngest properti...       True  "
      ]
     },
     "execution_count": 25,
     "metadata": {},
     "output_type": "execute_result"
    }
   ],
   "source": [
    "def good_wine(value):\n",
    "    if value >= 94:\n",
    "        return True\n",
    "    else:\n",
    "        return False\n",
    "df['good_wine'] = df['rating'].apply(good_wine)    \n",
    "df.query('rating >= 94').head()"
   ]
  },
  {
   "attachments": {},
   "cell_type": "markdown",
   "metadata": {},
   "source": [
    "Visualizing"
   ]
  },
  {
   "cell_type": "code",
   "execution_count": 26,
   "metadata": {},
   "outputs": [
    {
     "data": {
      "text/html": [
       "<div>\n",
       "<style scoped>\n",
       "    .dataframe tbody tr th:only-of-type {\n",
       "        vertical-align: middle;\n",
       "    }\n",
       "\n",
       "    .dataframe tbody tr th {\n",
       "        vertical-align: top;\n",
       "    }\n",
       "\n",
       "    .dataframe thead th {\n",
       "        text-align: right;\n",
       "    }\n",
       "</style>\n",
       "<table border=\"1\" class=\"dataframe\">\n",
       "  <thead>\n",
       "    <tr style=\"text-align: right;\">\n",
       "      <th></th>\n",
       "      <th>name</th>\n",
       "      <th>region</th>\n",
       "      <th>variety</th>\n",
       "      <th>rating</th>\n",
       "      <th>notes</th>\n",
       "      <th>good_wine</th>\n",
       "    </tr>\n",
       "  </thead>\n",
       "  <tbody>\n",
       "    <tr>\n",
       "      <th>0</th>\n",
       "      <td>1000 Stories Bourbon Barrel Aged Batch Blue Ca...</td>\n",
       "      <td>Mendocino, California</td>\n",
       "      <td>Red Wine</td>\n",
       "      <td>91.0</td>\n",
       "      <td>This is a very special, limited release of 100...</td>\n",
       "      <td>False</td>\n",
       "    </tr>\n",
       "    <tr>\n",
       "      <th>1</th>\n",
       "      <td>1000 Stories Bourbon Barrel Aged Gold Rush Red...</td>\n",
       "      <td>California</td>\n",
       "      <td>Red Wine</td>\n",
       "      <td>89.0</td>\n",
       "      <td>The California Gold Rush was a period of coura...</td>\n",
       "      <td>False</td>\n",
       "    </tr>\n",
       "    <tr>\n",
       "      <th>2</th>\n",
       "      <td>1000 Stories Bourbon Barrel Aged Gold Rush Red...</td>\n",
       "      <td>California</td>\n",
       "      <td>Red Wine</td>\n",
       "      <td>90.0</td>\n",
       "      <td>The California Gold Rush was a period of coura...</td>\n",
       "      <td>False</td>\n",
       "    </tr>\n",
       "    <tr>\n",
       "      <th>3</th>\n",
       "      <td>1000 Stories Bourbon Barrel Aged Zinfandel 2013</td>\n",
       "      <td>North Coast, California</td>\n",
       "      <td>Red Wine</td>\n",
       "      <td>91.0</td>\n",
       "      <td>The wine has a deep, rich purple color. An int...</td>\n",
       "      <td>False</td>\n",
       "    </tr>\n",
       "    <tr>\n",
       "      <th>4</th>\n",
       "      <td>1000 Stories Bourbon Barrel Aged Zinfandel 2014</td>\n",
       "      <td>California</td>\n",
       "      <td>Red Wine</td>\n",
       "      <td>90.0</td>\n",
       "      <td>Batch #004 is the first release of the 2014 vi...</td>\n",
       "      <td>False</td>\n",
       "    </tr>\n",
       "  </tbody>\n",
       "</table>\n",
       "</div>"
      ],
      "text/plain": [
       "                                                name                   region  \\\n",
       "0  1000 Stories Bourbon Barrel Aged Batch Blue Ca...    Mendocino, California   \n",
       "1  1000 Stories Bourbon Barrel Aged Gold Rush Red...               California   \n",
       "2  1000 Stories Bourbon Barrel Aged Gold Rush Red...               California   \n",
       "3    1000 Stories Bourbon Barrel Aged Zinfandel 2013  North Coast, California   \n",
       "4    1000 Stories Bourbon Barrel Aged Zinfandel 2014               California   \n",
       "\n",
       "    variety  rating                                              notes  \\\n",
       "0  Red Wine    91.0  This is a very special, limited release of 100...   \n",
       "1  Red Wine    89.0  The California Gold Rush was a period of coura...   \n",
       "2  Red Wine    90.0  The California Gold Rush was a period of coura...   \n",
       "3  Red Wine    91.0  The wine has a deep, rich purple color. An int...   \n",
       "4  Red Wine    90.0  Batch #004 is the first release of the 2014 vi...   \n",
       "\n",
       "   good_wine  \n",
       "0      False  \n",
       "1      False  \n",
       "2      False  \n",
       "3      False  \n",
       "4      False  "
      ]
     },
     "execution_count": 26,
     "metadata": {},
     "output_type": "execute_result"
    }
   ],
   "source": [
    "df.drop('grape', axis=1, inplace=True)\n",
    "df=df.dropna()\n",
    "df.head()"
   ]
  },
  {
   "cell_type": "code",
   "execution_count": 29,
   "metadata": {},
   "outputs": [
    {
     "data": {
      "text/plain": [
       "<Axes: >"
      ]
     },
     "execution_count": 29,
     "metadata": {},
     "output_type": "execute_result"
    },
    {
     "data": {
      "image/png": "[encoded data removed]",
      "text/plain": [
       "<Figure size 640x480 with 1 Axes>"
      ]
     },
     "metadata": {},
     "output_type": "display_data"
    }
   ],
   "source": [
    "df['rating'].hist()"
   ]
  },
  {
   "cell_type": "code",
   "execution_count": 33,
   "metadata": {},
   "outputs": [
    {
     "data": {
      "text/plain": [
       "<Axes: xlabel='rating', ylabel='variety'>"
      ]
     },
     "execution_count": 33,
     "metadata": {},
     "output_type": "execute_result"
    },
    {
     "data": {
      "image/png": "[encoded data removed]",
      "text/plain": [
       "<Figure size 640x480 with 1 Axes>"
      ]
     },
     "metadata": {},
     "output_type": "display_data"
    }
   ],
   "source": [
    "df.plot.scatter(x='rating', y='variety', s=50, cmap='viridis',alpha=0.5)"
   ]
  },
  {
   "attachments": {},
   "cell_type": "markdown",
   "metadata": {},
   "source": [
    "## Numpy"
   ]
  },
  {
   "cell_type": "code",
   "execution_count": 34,
   "metadata": {},
   "outputs": [
    {
     "name": "stdout",
     "output_type": "stream",
     "text": [
      "[1. 1. 1. 1.]\n"
     ]
    }
   ],
   "source": [
    "import numpy as np\n",
    "array = np.ones((4,))\n",
    "print(array)"
   ]
  },
  {
   "cell_type": "code",
   "execution_count": 35,
   "metadata": {},
   "outputs": [
    {
     "name": "stdout",
     "output_type": "stream",
     "text": [
      "[[1. 1. 1. 1.]]\n"
     ]
    }
   ],
   "source": [
    "#expand one row\n",
    "expanded = array[np.newaxis, :]\n",
    "print(expanded)\n",
    "#expand two rows\n"
   ]
  },
  {
   "cell_type": "code",
   "execution_count": 36,
   "metadata": {},
   "outputs": [
    {
     "name": "stdout",
     "output_type": "stream",
     "text": [
      "[[ True  True  True]\n",
      " [False False  True]\n",
      " [False  True False]]\n"
     ]
    }
   ],
   "source": [
    "array = np.array([[3,12,11],[45,22,11],[56,15,22]])\n",
    "# represent all matching conditions\n",
    "print(array < 20)"
   ]
  },
  {
   "cell_type": "code",
   "execution_count": 37,
   "metadata": {},
   "outputs": [
    {
     "data": {
      "text/plain": [
       "array([ 3, 12, 11, 11, 15])"
      ]
     },
     "execution_count": 37,
     "metadata": {},
     "output_type": "execute_result"
    }
   ],
   "source": [
    "# produce all matching values\n",
    "array[array < 20]"
   ]
  },
  {
   "attachments": {},
   "cell_type": "markdown",
   "metadata": {},
   "source": [
    "Staking"
   ]
  },
  {
   "cell_type": "code",
   "execution_count": 38,
   "metadata": {},
   "outputs": [
    {
     "name": "stdout",
     "output_type": "stream",
     "text": [
      "[[2 2 2 2 2 2 2 2 2 2 2 2]\n",
      " [2 2 2 2 2 2 2 2 2 2 2 2]]\n",
      "[[2 2 2 2 2 2 2]\n",
      " [2 2 2 2 2 2 2]]\n"
     ]
    },
    {
     "data": {
      "text/plain": [
       "array([[2, 2, 2, 2, 2, 2, 2, 2, 2, 2, 2, 2, 2, 2, 2, 2, 2, 2, 2],\n",
       "       [2, 2, 2, 2, 2, 2, 2, 2, 2, 2, 2, 2, 2, 2, 2, 2, 2, 2, 2]])"
      ]
     },
     "execution_count": 38,
     "metadata": {},
     "output_type": "execute_result"
    }
   ],
   "source": [
    "# horizontally\n",
    "# must have same number of dimensions!\n",
    "first = np.full((2, 12), 2)\n",
    "print(first)\n",
    "second = np.full((2, 7), 2)\n",
    "print(second)\n",
    "np.hstack((first, second))"
   ]
  },
  {
   "cell_type": "code",
   "execution_count": 39,
   "metadata": {},
   "outputs": [
    {
     "name": "stdout",
     "output_type": "stream",
     "text": [
      "[[1 1 1]\n",
      " [1 1 1]\n",
      " [1 1 1]]\n",
      "[[2 2 2]\n",
      " [2 2 2]\n",
      " [2 2 2]]\n"
     ]
    },
    {
     "data": {
      "text/plain": [
       "array([[1, 1, 1],\n",
       "       [1, 1, 1],\n",
       "       [1, 1, 1],\n",
       "       [2, 2, 2],\n",
       "       [2, 2, 2],\n",
       "       [2, 2, 2]])"
      ]
     },
     "execution_count": 39,
     "metadata": {},
     "output_type": "execute_result"
    }
   ],
   "source": [
    "# stacking vertically\n",
    "first = np.full((3,3), 1)\n",
    "print(first)\n",
    "second = np.full((3,3), 2)\n",
    "print(second)\n",
    "np.vstack((first, second))"
   ]
  },
  {
   "attachments": {},
   "cell_type": "markdown",
   "metadata": {},
   "source": [
    "Splitting"
   ]
  },
  {
   "cell_type": "code",
   "execution_count": 40,
   "metadata": {},
   "outputs": [
    {
     "data": {
      "text/plain": [
       "[array([1, 2, 3, 4, 5]), array([ 6,  7,  8,  9, 10])]"
      ]
     },
     "execution_count": 40,
     "metadata": {},
     "output_type": "execute_result"
    }
   ],
   "source": [
    "array = np.arange(1, 11)\n",
    "# split into two equal parts\n",
    "# warning it needs to allow for an equal division!\n",
    "np.hsplit(array, 2)\n"
   ]
  },
  {
   "cell_type": "code",
   "execution_count": 41,
   "metadata": {},
   "outputs": [
    {
     "name": "stdout",
     "output_type": "stream",
     "text": [
      "[1 2 3 4 5]\n",
      "[ 6  7  8  9 10]\n"
     ]
    }
   ],
   "source": [
    "# this allows for \"unpacking\"\n",
    "first, second = np.hsplit(array, 2)\n",
    "print(first)\n",
    "print(second)"
   ]
  },
  {
   "cell_type": "code",
   "execution_count": null,
   "metadata": {},
   "outputs": [],
   "source": []
  }
 ],
 "metadata": {
  "kernelspec": {
   "display_name": "tensorflow2",
   "language": "python",
   "name": "python3"
  },
  "language_info": {
   "codemirror_mode": {
    "name": "ipython",
    "version": 3
   },
   "file_extension": ".py",
   "mimetype": "text/x-python",
   "name": "python",
   "nbconvert_exporter": "python",
   "pygments_lexer": "ipython3",
   "version": "3.8.16"
  },
  "orig_nbformat": 4
 },
 "nbformat": 4,
 "nbformat_minor": 2
}
